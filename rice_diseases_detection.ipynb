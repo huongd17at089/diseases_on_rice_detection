{
  "nbformat": 4,
  "nbformat_minor": 0,
  "metadata": {
    "colab": {
      "name": "rice_diseases_detection.ipynb",
      "provenance": [],
      "authorship_tag": "ABX9TyNcr5m680WqQlF/9GPxk+og",
      "include_colab_link": true
    },
    "kernelspec": {
      "name": "python3",
      "display_name": "Python 3"
    },
    "language_info": {
      "name": "python"
    }
  },
  "cells": [
    {
      "cell_type": "markdown",
      "metadata": {
        "id": "view-in-github",
        "colab_type": "text"
      },
      "source": [
        "<a href=\"https://colab.research.google.com/github/huongd17at089/rice_diseases_detection/blob/master/rice_diseases_detection.ipynb\" target=\"_parent\"><img src=\"https://colab.research.google.com/assets/colab-badge.svg\" alt=\"Open In Colab\"/></a>"
      ]
    },
    {
      "cell_type": "code",
      "metadata": {
        "id": "XSOyj3W6lfHC"
      },
      "source": [
        "import os\n",
        "import numpy as np\n",
        "import cv2\n",
        "\n",
        "path = \"\"\n",
        "label_dic = {\n",
        "    \"Healthy\" : 0,\n",
        "    \"BrownSpot\": 1,\n",
        "    \"Hispa\": 2,\n",
        "    \"LeafBlast\" : 3\n",
        "\n",
        "}"
      ],
      "execution_count": 2,
      "outputs": []
    },
    {
      "cell_type": "code",
      "metadata": {
        "id": "IiT7XU0Wl0IE"
      },
      "source": [
        "def get_data(path, img_size):\n",
        "  data = []\n",
        "  for root, dirs, files in os.walk(path):\n",
        "    label = label_dic.get(list(root.split(sep=\"/\"))[-1], None)\n",
        "    if label :\n",
        "      for f in files:\n",
        "        try: \n",
        "          img_path = os.path.join(root,f)\n",
        "          img = cv2.imread(img_path) #cv2.IMREAD_GRAYSCALE\n",
        "          img = cv2.resize(img,(img_size,img_size))\n",
        "          data.append[img, label]\n",
        "        except Exception as e:\n",
        "          print(e)\n",
        "  return np.array(data)"
      ],
      "execution_count": 3,
      "outputs": []
    },
    {
      "cell_type": "code",
      "metadata": {
        "id": "BpXG7QLQrVtC"
      },
      "source": [
        ""
      ],
      "execution_count": null,
      "outputs": []
    }
  ]
}