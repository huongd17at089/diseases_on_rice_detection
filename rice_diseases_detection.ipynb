{
  "nbformat": 4,
  "nbformat_minor": 0,
  "metadata": {
    "colab": {
      "name": "rice_diseases_detection.ipynb",
      "provenance": [],
      "authorship_tag": "ABX9TyNolHAJA3jlvaVOe7eYc4f2",
      "include_colab_link": true
    },
    "kernelspec": {
      "name": "python3",
      "display_name": "Python 3"
    },
    "language_info": {
      "name": "python"
    }
  },
  "cells": [
    {
      "cell_type": "markdown",
      "metadata": {
        "id": "view-in-github",
        "colab_type": "text"
      },
      "source": [
        "<a href=\"https://colab.research.google.com/github/huongd17at089/rice_diseases_detection/blob/huong/rice_diseases_detection.ipynb\" target=\"_parent\"><img src=\"https://colab.research.google.com/assets/colab-badge.svg\" alt=\"Open In Colab\"/></a>"
      ]
    },
    {
      "cell_type": "code",
      "metadata": {
        "id": "78lXJCyR3RXh"
      },
      "source": [
        "!rm -rf /content/sample_data\n",
        "! pip install -q kaggle"
      ],
      "execution_count": 1,
      "outputs": []
    },
    {
      "cell_type": "code",
      "metadata": {
        "id": "1KrZfeem3lbV"
      },
      "source": [
        "# from google.colab import files\n",
        "# files.upload()\n",
        "# {\"username\":\"dinhgihuong\",\"key\":\"a9a05d71e7c7e2449d5d56f66ba6c2aa\"}  kaggle.json"
      ],
      "execution_count": null,
      "outputs": []
    },
    {
      "cell_type": "code",
      "metadata": {
        "id": "U3C6M5sx4B_C"
      },
      "source": [
        "! mkdir ~/.kaggle\n",
        "! cp kaggle.json ~/.kaggle/\n",
        "! chmod 600 ~/.kaggle/kaggle.json\n",
        "# ! kaggle datasets list"
      ],
      "execution_count": 2,
      "outputs": []
    },
    {
      "cell_type": "code",
      "metadata": {
        "id": "pkdYll5N4IXP",
        "colab": {
          "base_uri": "https://localhost:8080/"
        },
        "outputId": "b0b0bb40-b075-49ce-da3d-6c201c898172"
      },
      "source": [
        "!kaggle datasets list -s \"Rice Diseases\""
      ],
      "execution_count": 3,
      "outputs": [
        {
          "output_type": "stream",
          "text": [
            "Warning: Looks like you're using an outdated API Version, please consider updating (server 1.5.12 / client 1.5.4)\n",
            "ref                                                             title                                            size  lastUpdated          downloadCount  \n",
            "--------------------------------------------------------------  ----------------------------------------------  -----  -------------------  -------------  \n",
            "minhhuy2810/rice-diseases-image-dataset                         Rice Diseases Image Dataset                      12GB  2019-11-15 22:17:33           7921  \n",
            "vbookshelf/rice-leaf-diseases                                   Rice Leaf Diseases Dataset                       37MB  2020-02-21 01:35:02           2030  \n",
            "shayanriyaz/riceleafs                                           Rice Leafs                                       15GB  2019-07-18 11:31:17           1811  \n",
            "vipoooool/new-plant-diseases-dataset                            New Plant Diseases Dataset                        3GB  2018-11-18 07:09:16          13998  \n",
            "pitt/contagious-diseases                                        Project Tycho: Contagious Diseases                3MB  2017-02-02 17:56:33           2325  \n",
            "charankakaraparthi/heart-dissease                               Heart_Diseases                                    3KB  2020-03-15 05:25:12            743  \n",
            "rishidamarla/infectious-diseases-by-american-counties           Infectious Diseases by American Counties        906KB  2020-10-03 17:14:38             92  \n",
            "saroz014/plant-diseases                                         Plant Diseases                                    6GB  2018-10-30 09:18:38            919  \n",
            "rishidamarla/vaccine-preventable-diseases                       Vaccine Preventable Diseases                     25KB  2020-09-26 16:30:44             74  \n",
            "paoloripamonti/derma-diseases                                   Derma Diseases                                   53MB  2018-09-07 13:32:34            453  \n",
            "tahminashoaib86/global-cause-of-the-deaths-other-than-diseases  Global Cause of the Deaths other than diseases    1MB  2020-07-23 20:16:31            177  \n",
            "aiaiaidavid/cardio-data-dv13032020                              Cardiovascular diseases dataset (clean)         448KB  2020-03-14 15:10:59            747  \n",
            "priya1207/diseases-dataset                                      Diseases dataset                                  5MB  2020-07-17 17:40:57            708  \n",
            "kareem3egm/cucumber-plant-diseases-dataset                      Cucumber plant diseases dataset                 760MB  2020-12-13 20:09:05            172  \n",
            "serranosebas/enfermedades-cacao-yolov4                          Cocoa Diseases (YOLOv4)                           2GB  2020-10-23 22:32:15            116  \n",
            "rajeshbhattacharjee/rice-diseases-using-cnn-and-svm             rice_diseases_using_cnn_and_svm                  27MB  2019-12-24 16:01:17            178  \n",
            "zayanmakar/infectious-diseases-county-year-and-sex              Infectious Diseases, County, Year, and Sex        2MB  2021-02-09 11:55:09            146  \n",
            "davidbroberts/diseases-in-the-us-1916-to-2011                   Diseases in the US 1916 - 2011                    3MB  2021-07-07 21:55:12             15  \n",
            "mhantor/apple-leaf-diseases                                     Apple Leaf Diseases                               7MB  2021-03-29 18:53:27             50  \n",
            "badhon7432/paddyleafdiseaseuci                                  paddy-leaf-disease-UCI                          161MB  2020-08-06 23:27:46            282  \n"
          ],
          "name": "stdout"
        }
      ]
    },
    {
      "cell_type": "code",
      "metadata": {
        "id": "7zWer3tZ4KpI",
        "colab": {
          "base_uri": "https://localhost:8080/"
        },
        "outputId": "e735dd09-0c23-40c4-b479-b1d1d7e28fa8"
      },
      "source": [
        "! kaggle datasets download -d \"minhhuy2810/rice-diseases-image-dataset\""
      ],
      "execution_count": 4,
      "outputs": [
        {
          "output_type": "stream",
          "text": [
            "Downloading rice-diseases-image-dataset.zip to /content\n",
            "100% 12.0G/12.0G [04:54<00:00, 6.28MB/s]\n",
            "100% 12.0G/12.0G [04:54<00:00, 43.7MB/s]\n"
          ],
          "name": "stdout"
        }
      ]
    },
    {
      "cell_type": "code",
      "metadata": {
        "id": "XlU0U6KU4NhD"
      },
      "source": [
        "! mkdir data\n",
        "! unzip rice-diseases-image-dataset.zip -d data\n",
        "!rm -rf /content/data/LabelledRice\n",
        "!rm rice-diseases-image-dataset.zip"
      ],
      "execution_count": null,
      "outputs": []
    },
    {
      "cell_type": "code",
      "metadata": {
        "id": "XSOyj3W6lfHC"
      },
      "source": [
        "import os\n",
        "import numpy as np\n",
        "import cv2\n",
        "\n",
        "data_path = \"/content/data/RiceDiseaseDataset/\"\n",
        "img_size = 512\n",
        "label_dic = {\n",
        "    \"Healthy\" : 0,\n",
        "    \"BrownSpot\": 1,\n",
        "    \"Hispa\": 2,\n",
        "    \"LeafBlast\" : 3\n",
        "\n",
        "}\n",
        "n_class = len(label_dic.keys)"
      ],
      "execution_count": 25,
      "outputs": []
    },
    {
      "cell_type": "code",
      "metadata": {
        "id": "IiT7XU0Wl0IE"
      },
      "source": [
        "def get_data(path, img_size):\n",
        "  data = []\n",
        "  for root, dirs, files in os.walk(path):\n",
        "    label = label_dic.get(list(root.split(sep=\"/\"))[-1], None)\n",
        "    if label :\n",
        "      for f in files:\n",
        "        try: \n",
        "          img_path = os.path.join(root,f)\n",
        "          img = cv2.imread(img_path) #cv2.IMREAD_GRAYSCALE\n",
        "          img = cv2.resize(img,(img_size,img_size))\n",
        "          data.append([img, label])\n",
        "        except Exception as e:\n",
        "          print(e)\n",
        "  return np.array(data)"
      ],
      "execution_count": 14,
      "outputs": []
    },
    {
      "cell_type": "code",
      "metadata": {
        "id": "MTzgLQRBuy1G"
      },
      "source": [
        "def data_preprocessing(data):\n",
        "  imgs = data[:,0]\n",
        "  labels = data[:,1]\n",
        "  "
      ],
      "execution_count": null,
      "outputs": []
    },
    {
      "cell_type": "code",
      "metadata": {
        "id": "BpXG7QLQrVtC",
        "outputId": "0104efbc-a28e-4226-c2a6-70f47b71bc3e",
        "colab": {
          "base_uri": "https://localhost:8080/"
        }
      },
      "source": [
        "data_train = get_data(data_path + \"train/\", img_size)\n",
        "data_test = get_data(data_path + \"validation/\", img_size)"
      ],
      "execution_count": 26,
      "outputs": [
        {
          "output_type": "stream",
          "text": [
            "/usr/local/lib/python3.7/dist-packages/ipykernel_launcher.py:14: VisibleDeprecationWarning: Creating an ndarray from ragged nested sequences (which is a list-or-tuple of lists-or-tuples-or ndarrays with different lengths or shapes) is deprecated. If you meant to do this, you must specify 'dtype=object' when creating the ndarray\n",
            "  \n"
          ],
          "name": "stderr"
        }
      ]
    },
    {
      "cell_type": "code",
      "metadata": {
        "id": "USLTrYwgrC7y"
      },
      "source": [
        "from tensorflow.keras.models import Sequential\n",
        "from tensorflow.keras.layers import Dense, Conv2D, MaxPooling2D, Dropout, Flatten\n",
        "\n",
        "def createModel():\n",
        "    model = Sequential()\n",
        "    model.add(Conv2D(32, (3, 3), padding='same', activation='relu', input_shape=(img_size,img_size,3)))\n",
        "    model.add(Conv2D(32, (3, 3), activation='relu'))\n",
        "    model.add(MaxPooling2D(pool_size=(2, 2)))\n",
        "    model.add(Dropout(0.25))\n",
        "\n",
        "    model.add(Conv2D(64, (3, 3), padding='same', activation='relu'))\n",
        "    model.add(Conv2D(64, (3, 3), activation='relu'))\n",
        "    model.add(MaxPooling2D(pool_size=(2, 2)))\n",
        "    model.add(Dropout(0.25))\n",
        "\n",
        "    model.add(Conv2D(64, (3, 3), padding='same', activation='relu'))\n",
        "    model.add(Conv2D(64, (3, 3), activation='relu'))\n",
        "    model.add(MaxPooling2D(pool_size=(2, 2)))\n",
        "    model.add(Dropout(0.25))\n",
        "\n",
        "    model.add(Flatten())\n",
        "    model.add(Dense(512, activation='relu'))\n",
        "    model.add(Dropout(0.5))\n",
        "    model.add(Dense(n_class, activation='softmax'))\n",
        "    \n",
        "    return model"
      ],
      "execution_count": null,
      "outputs": []
    },
    {
      "cell_type": "code",
      "metadata": {
        "id": "zdXzhDw4sVvW"
      },
      "source": [
        ""
      ],
      "execution_count": null,
      "outputs": []
    }
  ]
}